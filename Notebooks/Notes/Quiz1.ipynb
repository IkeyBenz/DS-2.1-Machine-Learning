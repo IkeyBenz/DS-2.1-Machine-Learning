{
 "cells": [
  {
   "cell_type": "code",
   "execution_count": 8,
   "metadata": {},
   "outputs": [],
   "source": [
    "# A two dimentional array X is given\n",
    "# Write a function that:\n",
    "#    1) Subtracts the minimum element of each column from all the elements in that column\n",
    "#    2) Divides the result by the range of values of each column\n",
    "\n",
    "\n",
    "def normalizer(X: [[int]]):\n",
    "    # Loop over each column, assuming every row's length is the same as the first row's\n",
    "    for i in range(len(X[0])):\n",
    "        # Get values in column\n",
    "        col = [X[i][j] for j in range(len(X))]\n",
    "        \n",
    "        # Calculate minimum and range\n",
    "        col_min = min(col)\n",
    "        col_range = max(col) - col_min\n",
    "        \n",
    "        # Store the formula for normalization in lambda function\n",
    "        norm_func = lambda val: (val-col_min)/col_range\n",
    "        \n",
    "        # Set current column to be equal to the normalized column\n",
    "        X[i] = list(map(norm_func, col))\n",
    "    \n",
    "    # Operation was done in place, so just return the original matrix\n",
    "    return X\n",
    "        \n",
    "        "
   ]
  },
  {
   "cell_type": "code",
   "execution_count": 9,
   "metadata": {},
   "outputs": [
    {
     "name": "stdout",
     "output_type": "stream",
     "text": [
      "[[0.0, 0.3333333333333333, 0.6666666666666666, 1.0], [0.0, 0.3333333333333333, 0.6666666666666666, 1.0], [0.0, 0.3333333333333333, 0.6666666666666666, 1.0], [0.0, 0.3333333333333333, 0.6666666666666666, 1.0]]\n"
     ]
    }
   ],
   "source": [
    "print(normalizer(sample))"
   ]
  },
  {
   "cell_type": "code",
   "execution_count": null,
   "metadata": {},
   "outputs": [],
   "source": []
  }
 ],
 "metadata": {
  "kernelspec": {
   "display_name": "Python 3",
   "language": "python",
   "name": "python3"
  },
  "language_info": {
   "codemirror_mode": {
    "name": "ipython",
    "version": 3
   },
   "file_extension": ".py",
   "mimetype": "text/x-python",
   "name": "python",
   "nbconvert_exporter": "python",
   "pygments_lexer": "ipython3",
   "version": "3.7.1"
  }
 },
 "nbformat": 4,
 "nbformat_minor": 2
}
