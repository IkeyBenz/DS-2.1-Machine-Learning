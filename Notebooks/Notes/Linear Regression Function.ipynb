{
 "cells": [
  {
   "cell_type": "code",
   "execution_count": 15,
   "metadata": {},
   "outputs": [],
   "source": [
    "# The algorithm for linear regression\n",
    "def find_line_of_best_fit(x_vals, y_vals):\n",
    "    \n",
    "    assert len(x_vals) == len(y_vals), \"list of x and y values must have same length\"\n",
    "    \n",
    "    n = len(x_vals)  # The number of points we have\n",
    "    Ex = sum(x_vals) # The sum of all the x values\n",
    "    Ey = sum(y_vals) # The sum of all the y values\n",
    "    Ex2 = sum(list(map(lambda x: x**2, x_vals)))    # Sum of all x values squared\n",
    "    Ey2 = sum(list(map(lambda y: y**2, y_vals)))    # Sum of all y values squared\n",
    "    Exy = sum([x*y for x,y in zip(x_vals, y_vals)]) # Sum of all x*y pairs\n",
    "    \n",
    "    # Where y = a + bx, here are the values for a and b\n",
    "    b = (n*Exy - Ex*Ey) / (n*Ex2 - Ex**2) # The slope of our line\n",
    "    a = (Ey/n) - b*(Ex/n) # The y intercecpt\n",
    "    \n",
    "    # f(x), our equation of the line of best fit\n",
    "    f = lambda x: a + b*x\n",
    "    \n",
    "    # Return the predicted y values using the original x_vals\n",
    "    # and our computed function for y (f)\n",
    "    return list(map(f, x_vals))"
   ]
  },
  {
   "cell_type": "code",
   "execution_count": 18,
   "metadata": {},
   "outputs": [
    {
     "name": "stdout",
     "output_type": "stream",
     "text": [
      "[38.20452911574406, 47.22250179726814, 78.78540618260243, 105.83932422717469, 150.92918763479508, 196.01905104241553]\n"
     ]
    },
    {
     "data": {
      "image/png": "[encoded data removed]",
      "text/plain": [
       "<Figure size 432x288 with 1 Axes>"
      ]
     },
     "metadata": {
      "needs_background": "light"
     },
     "output_type": "display_data"
    }
   ],
   "source": [
    "# Lets test our implementation using these points and a graph\n",
    "import matplotlib.pyplot as plt\n",
    "\n",
    "# Test points\n",
    "xs = [1, 3, 10, 16, 26, 36]\n",
    "ys = [42,50,75,100,150,200]\n",
    "y_predicted = find_line_of_best_fit(xs, ys)\n",
    "\n",
    "plt.scatter(xs, ys) # Plot the original points\n",
    "plt.plot(xs, y_predicted) # Plot the line using our suggested y values\n",
    "\n",
    "print(y_predicted)\n",
    "plt.show() # Looks pretty damn good to me!\n"
   ]
  },
  {
   "cell_type": "code",
   "execution_count": null,
   "metadata": {},
   "outputs": [],
   "source": []
  }
 ],
 "metadata": {
  "kernelspec": {
   "display_name": "Python 3",
   "language": "python",
   "name": "python3"
  },
  "language_info": {
   "codemirror_mode": {
    "name": "ipython",
    "version": 3
   },
   "file_extension": ".py",
   "mimetype": "text/x-python",
   "name": "python",
   "nbconvert_exporter": "python",
   "pygments_lexer": "ipython3",
   "version": "3.7.1"
  }
 },
 "nbformat": 4,
 "nbformat_minor": 2
}
